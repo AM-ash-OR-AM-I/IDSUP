{
 "cells": [
  {
   "cell_type": "code",
   "outputs": [],
   "source": [
    "import math\n",
    "import random\n",
    "from typing import Tuple\n",
    "\n",
    "\n",
    "def uniform_pdf(x, a=0, b=1):\n",
    "    return 1 / (b - a) if a <= x < b else 0\n",
    "\n",
    "\n",
    "def uniform_cdf(x, a=0, b=1):\n",
    "    if x <= a:\n",
    "        return 0\n",
    "    elif a <= x < b:\n",
    "        return (x - a) / (b - a)\n",
    "    else:\n",
    "        return 1\n",
    "\n",
    "\n",
    "def normal_pdf(x, std_deviation, mean):\n",
    "    return (\n",
    "            1\n",
    "            / (std_deviation * math.sqrt(2 * math.pi))\n",
    "            * (math.exp(-pow(x - mean, 2) / (2 * pow(std_deviation, 2))))\n",
    "    )\n",
    "\n",
    "\n",
    "def normal_cdf(x, mu, sigma):\n",
    "    return .5 * (1 + math.erf((x - mu) / (sigma * math.sqrt(2))))\n",
    "\n",
    "\n",
    "def bernauli_trail(p):\n",
    "    return 1 if random.random() < p else 0\n",
    "\n",
    "\n",
    "def binomial(n, p):\n",
    "    return sum(bernauli_trail(p) for i in range(n))"
   ],
   "metadata": {
    "collapsed": false,
    "ExecuteTime": {
     "end_time": "2024-06-03T16:43:33.695271Z",
     "start_time": "2024-06-03T16:43:33.660545Z"
    }
   },
   "id": "5c573be6f5f9c6f",
   "execution_count": 10
  },
  {
   "cell_type": "markdown",
   "source": [
    "## Hypothesis Testing"
   ],
   "metadata": {
    "collapsed": false
   },
   "id": "1a0fad1cf33bd7f5"
  },
  {
   "cell_type": "code",
   "execution_count": 54,
   "id": "initial_id",
   "metadata": {
    "collapsed": true,
    "ExecuteTime": {
     "end_time": "2024-06-04T08:30:49.938207Z",
     "start_time": "2024-06-04T08:30:49.924361Z"
    }
   },
   "outputs": [
    {
     "name": "stdout",
     "output_type": "stream",
     "text": [
      "0.15865525393145707\n",
      "0.9875806693484477\n"
     ]
    }
   ],
   "source": [
    "def normal_approximation_to_binomial(n: int, p: float) -> Tuple[float, float]:\n",
    "    \"\"\"\n",
    "    n -> no. of trials\n",
    "    p -> probability\n",
    "\n",
    "    Return mu and sigma corrensponding to binomial(n, p)\n",
    "    \"\"\"\n",
    "    mu = p * n\n",
    "    sigma = math.sqrt(p * (1 - p) * n)\n",
    "    return mu, sigma\n",
    "\n",
    "\n",
    "def normal_probability_above(x, mu, sigma):\n",
    "    return 1 - normal_cdf(x, mu, sigma)\n",
    "\n",
    "\n",
    "normal_probability_below = normal_cdf\n",
    "\n",
    "\n",
    "# opposite of confidence interval\n",
    "def two_sided_p_value(x: float, mu: float, sigma: float = 1) -> float:\n",
    "    if x >= mu:\n",
    "        return 2 * normal_probability_above(x, mu, sigma)\n",
    "    else:\n",
    "        return 2 * normal_probability_below(x, mu, sigma)\n",
    "\n",
    "\n",
    "def normal_probability_between(lo: float, hi: float, mu: float = 0, sigma: float = 1):\n",
    "    return normal_cdf(hi, mu, sigma) - normal_cdf(lo, mu, sigma)\n",
    "\n",
    "\n",
    "x = 1\n",
    "x_left, x_right = -2.5, 2.5\n",
    "mu, sigma = 0, 1\n",
    "print(normal_probability_above(x, mu, sigma))\n",
    "print(normal_probability_between(x_left, x_right, mu, sigma))\n"
   ]
  },
  {
   "cell_type": "code",
   "outputs": [],
   "source": [
    "# x_coords = [x / 200 for x in range(-1000, 1000)]\n",
    "# y_coords = [normal_pdf(x, std_deviation=1, mean=0) for x in x_coords]\n",
    "# plt.plot(x_coords, y_coords)\n",
    "# y_coords = [normal_pdf(x, std_deviation=3, mean=0) for x in x_coords]\n",
    "# plt.plot(x_coords, y_coords)\n",
    "# y_coords = [uniform_pdf(x) for x in x_coords]\n",
    "# plt.plot(x_coords, y_coords)\n",
    "# plt.legend([\"Normal PDF\", \"Uniform PDF 1\", \"Uniform PDF 2\"])\n",
    "# plt.show()"
   ],
   "metadata": {
    "collapsed": false
   },
   "id": "9b9c635ff528a3f"
  },
  {
   "cell_type": "code",
   "outputs": [
    {
     "data": {
      "text/plain": "0.11303849956686451"
     },
     "execution_count": 12,
     "metadata": {},
     "output_type": "execute_result"
    }
   ],
   "source": [
    "normal_probability_below(65, 88, 19)"
   ],
   "metadata": {
    "collapsed": false,
    "ExecuteTime": {
     "end_time": "2024-06-03T16:43:35.129583Z",
     "start_time": "2024-06-03T16:43:35.118356Z"
    }
   },
   "id": "d3b77acbc466004c",
   "execution_count": 12
  },
  {
   "cell_type": "code",
   "outputs": [
    {
     "name": "stdout",
     "output_type": "stream",
     "text": [
      "-1.2105263157894737\n"
     ]
    }
   ],
   "source": [
    "x = 65\n",
    "mu = 88\n",
    "sigma = 19\n",
    "\n",
    "z = (x - mu) / sigma\n",
    "print(z)"
   ],
   "metadata": {
    "collapsed": false,
    "ExecuteTime": {
     "end_time": "2024-06-03T16:50:57.757839Z",
     "start_time": "2024-06-03T16:50:57.728307Z"
    }
   },
   "id": "617e7241fab35090",
   "execution_count": 14
  },
  {
   "cell_type": "markdown",
   "source": [
    "## Inverse Normal Distribution"
   ],
   "metadata": {
    "collapsed": false
   },
   "id": "21371b3791a2e129"
  },
  {
   "cell_type": "code",
   "outputs": [],
   "source": [
    "def inverse_cdf(p: float, mu=0, sigma=1, tolerance=10 ** -6):\n",
    "    low, high = -10, 10\n",
    "    z = 0\n",
    "    while high - low > tolerance:\n",
    "        z = (high + low) / 2\n",
    "        z_prob = normal_cdf(z, 0, 1)\n",
    "        if z_prob < p:\n",
    "            low = z\n",
    "        else:\n",
    "            high = z\n",
    "\n",
    "    return mu + sigma * z\n",
    "\n",
    "\n",
    "def inverse_normal_above(p_right, mu, sigma):\n",
    "    \"\"\"Return value of x for which prob > p i.e. find x s.t. P(X>=x) = p => P(X<=x) = 1-p\"\"\"\n",
    "    p_left = 1 - p_right\n",
    "    return inverse_cdf(p_left, mu, sigma)\n",
    "\n",
    "\n",
    "inverse_normal_below = inverse_cdf\n",
    "\n",
    "\n",
    "def inverse_normal_between(p_between, mu, sigma):\n",
    "    p_sides = 1 - p_between\n",
    "    p_left = p_sides / 2\n",
    "    p_right = 1 - p_left\n",
    "    print(p_right, p_left)\n",
    "    return inverse_cdf(p_left, mu, sigma), inverse_cdf(p_right, mu, sigma)\n"
   ],
   "metadata": {
    "collapsed": false,
    "ExecuteTime": {
     "end_time": "2024-06-04T08:29:55.018404Z",
     "start_time": "2024-06-04T08:29:55.005416Z"
    }
   },
   "id": "f6b8f50adee62f8f",
   "execution_count": 49
  },
  {
   "cell_type": "code",
   "outputs": [
    {
     "name": "stdout",
     "output_type": "stream",
     "text": [
      "1.0027116537094116\n",
      "0.99375 0.006249999999999978\n",
      "(-2.497705817222595, 2.497705817222595)\n"
     ]
    }
   ],
   "source": [
    "print(inverse_normal_above(0.158, mu=0, sigma=1))\n",
    "print(inverse_normal_between(0.9875, mu=0, sigma=1))"
   ],
   "metadata": {
    "collapsed": false,
    "ExecuteTime": {
     "end_time": "2024-06-04T08:31:15.631919Z",
     "start_time": "2024-06-04T08:31:15.623281Z"
    }
   },
   "id": "de5b0b5cedb2bcd",
   "execution_count": 56
  },
  {
   "cell_type": "code",
   "outputs": [],
   "source": [],
   "metadata": {
    "collapsed": false
   },
   "id": "656449d3c1d39841"
  }
 ],
 "metadata": {
  "kernelspec": {
   "display_name": "Python 3",
   "language": "python",
   "name": "python3"
  },
  "language_info": {
   "codemirror_mode": {
    "name": "ipython",
    "version": 2
   },
   "file_extension": ".py",
   "mimetype": "text/x-python",
   "name": "python",
   "nbconvert_exporter": "python",
   "pygments_lexer": "ipython2",
   "version": "2.7.6"
  }
 },
 "nbformat": 4,
 "nbformat_minor": 5
}
