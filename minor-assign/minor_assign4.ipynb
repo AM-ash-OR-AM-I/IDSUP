{
 "cells": [
  {
   "cell_type": "markdown",
   "source": [
    "# Minor Assign 4"
   ],
   "metadata": {
    "collapsed": false
   },
   "id": "de6a1b633e9fa236"
  },
  {
   "cell_type": "markdown",
   "source": [
    "1. Write a python program to randomly generate data with 100 numbers and form a histogram of it. Range of numbers should be between 1 to 100(both included), bucket size=10."
   ],
   "metadata": {
    "collapsed": false
   },
   "id": "86b97ba7fdbcbe82"
  },
  {
   "cell_type": "code",
   "execution_count": 14,
   "id": "initial_id",
   "metadata": {
    "collapsed": true,
    "ExecuteTime": {
     "end_time": "2024-06-04T06:45:06.844504Z",
     "start_time": "2024-06-04T06:45:06.663661Z"
    }
   },
   "outputs": [
    {
     "data": {
      "text/plain": "(array([12., 12.,  8.,  8., 13.,  9.,  9., 11.,  5., 13.]),\n array([  1.,  11.,  21.,  31.,  41.,  51.,  61.,  71.,  81.,  91., 101.]),\n <BarContainer object of 10 artists>)"
     },
     "execution_count": 14,
     "metadata": {},
     "output_type": "execute_result"
    },
    {
     "data": {
      "text/plain": "<Figure size 640x480 with 1 Axes>",
      "image/png": "[encoded data removed]"
     },
     "metadata": {},
     "output_type": "display_data"
    }
   ],
   "source": [
    "\n",
    "import random\n",
    "\n",
    "from matplotlib import pyplot\n",
    "\n",
    "random_100 = [random.randint(1, 101) for _ in range(100)]\n",
    "pyplot.hist(random_100, bins=10)"
   ]
  },
  {
   "cell_type": "markdown",
   "source": [
    "2. Write a python program to create a Named Tuple with following details(RollNo.,[Name,Branch,Year of Admission])."
   ],
   "metadata": {
    "collapsed": false
   },
   "id": "a4153e06d308ebde"
  },
  {
   "cell_type": "code",
   "outputs": [
    {
     "name": "stdout",
     "output_type": "stream",
     "text": [
      "RollNo(Name='Ashu', Branch='CSE', Year_of_Admission=2021)\n"
     ]
    }
   ],
   "source": [
    "from collections import namedtuple\n",
    "\n",
    "RollNo = namedtuple('RollNo', ['Name', 'Branch', 'Year_of_Admission'])\n",
    "R = RollNo('Ashu', 'CSE', 2021)\n",
    "print(R)"
   ],
   "metadata": {
    "collapsed": false,
    "ExecuteTime": {
     "end_time": "2024-06-04T06:50:32.603885Z",
     "start_time": "2024-06-04T06:50:32.595730Z"
    }
   },
   "id": "ea77779352b9464f",
   "execution_count": 17
  },
  {
   "cell_type": "markdown",
   "source": [
    "3. Write a python program to create a Dataclass with following details (Roll No.,[Name,Branch,Year of Admission])."
   ],
   "metadata": {
    "collapsed": false
   },
   "id": "4c7ef1e391a3a6cf"
  },
  {
   "cell_type": "code",
   "outputs": [
    {
     "name": "stdout",
     "output_type": "stream",
     "text": [
      "RollNo(name='Ashutosh', branch='CSE', year_of_admission=2021)\n"
     ]
    }
   ],
   "source": [
    "from dataclasses import dataclass\n",
    "\n",
    "\n",
    "@dataclass\n",
    "class RollNo:\n",
    "    name: str\n",
    "    branch: str\n",
    "    year_of_admission: int\n",
    "\n",
    "\n",
    "roll = RollNo('Ashutosh', 'CSE', 2021)\n",
    "print(roll)\n"
   ],
   "metadata": {
    "collapsed": false,
    "ExecuteTime": {
     "end_time": "2024-06-04T06:51:09.224299Z",
     "start_time": "2024-06-04T06:51:09.214996Z"
    }
   },
   "id": "71c5da11fc684a87",
   "execution_count": 18
  },
  {
   "cell_type": "markdown",
   "source": [
    "4. Write, execute and visualise the progress of a python code using tqdm module with setting proper description."
   ],
   "metadata": {
    "collapsed": false
   },
   "id": "b8c27a4664099dd2"
  },
  {
   "cell_type": "code",
   "outputs": [
    {
     "data": {
      "text/plain": "Loop indicator:   0%|          | 0/100 [00:00<?, ?it/s]",
      "application/vnd.jupyter.widget-view+json": {
       "version_major": 2,
       "version_minor": 0,
       "model_id": "4c213180fa4f43c6871f14a5f3b32e9b"
      }
     },
     "metadata": {},
     "output_type": "display_data"
    },
    {
     "name": "stdout",
     "output_type": "stream",
     "text": [
      "0\n",
      "1\n",
      "2\n",
      "3\n",
      "4\n",
      "5\n",
      "6\n",
      "7\n",
      "8\n",
      "9\n",
      "10\n",
      "11\n",
      "12\n",
      "13\n",
      "14\n",
      "15\n",
      "16\n",
      "17\n",
      "18\n",
      "19\n",
      "20\n",
      "21\n",
      "22\n",
      "23\n",
      "24\n",
      "25\n",
      "26\n",
      "27\n",
      "28\n",
      "29\n",
      "30\n",
      "31\n",
      "32\n",
      "33\n",
      "34\n",
      "35\n",
      "36\n",
      "37\n",
      "38\n",
      "39\n",
      "40\n",
      "41\n",
      "42\n",
      "43\n",
      "44\n",
      "45\n",
      "46\n",
      "47\n",
      "48\n",
      "49\n",
      "50\n",
      "51\n",
      "52\n",
      "53\n",
      "54\n",
      "55\n",
      "56\n",
      "57\n",
      "58\n",
      "59\n",
      "60\n",
      "61\n",
      "62\n",
      "63\n",
      "64\n",
      "65\n",
      "66\n",
      "67\n",
      "68\n",
      "69\n",
      "70\n",
      "71\n",
      "72\n",
      "73\n",
      "74\n",
      "75\n",
      "76\n",
      "77\n",
      "78\n",
      "79\n",
      "80\n",
      "81\n",
      "82\n",
      "83\n",
      "84\n",
      "85\n",
      "86\n",
      "87\n",
      "88\n",
      "89\n",
      "90\n",
      "91\n",
      "92\n",
      "93\n",
      "94\n",
      "95\n",
      "96\n",
      "97\n",
      "98\n",
      "99\n"
     ]
    }
   ],
   "source": [
    "from tqdm.notebook import tnrange\n",
    "from time import sleep\n",
    "\n",
    "for x in tnrange(100, desc='Loop indicator'):\n",
    "    print(x)\n",
    "    sleep(.05)"
   ],
   "metadata": {
    "collapsed": false,
    "ExecuteTime": {
     "end_time": "2024-06-04T08:33:20.922475Z",
     "start_time": "2024-06-04T08:33:15.464272Z"
    }
   },
   "id": "c4956c55a475a2f7",
   "execution_count": 29
  },
  {
   "cell_type": "markdown",
   "source": [
    "6. Given below is a confusion matrix, compute Precision, Recall, Accuracy and f1 score.\n",
    "\n",
    "-----------------| --- | -----\n",
    "Confusion Matrix | Fit | Unfit\n",
    "Predict 'Fit'    |  250| 750 \n",
    "Predict 'Unfit'  |  500| 250\n",
    "Write a python program using a generic function to compute above given parameters by taking values of TP, FP, TN, FN as user input."
   ],
   "metadata": {
    "collapsed": false
   },
   "id": "1274d2154c4c6ced"
  },
  {
   "cell_type": "code",
   "outputs": [
    {
     "name": "stdout",
     "output_type": "stream",
     "text": [
      "accuracy(tp, tn, fp, fn) = 0.2857142857142857\n",
      "precision(tp, tn) = 0.25\n",
      "recall(tp, fp) = 0.3333333333333333\n",
      "f1_score(tp, tn, fp) = 0.28571428571428575\n"
     ]
    }
   ],
   "source": [
    "accuracy = lambda tp, tn, fn, fp: (tp + tn) / sum([tp, tn, fn, fp])\n",
    "\n",
    "precision = lambda tp, tn: tp / (tp + fp)\n",
    "\n",
    "recall = lambda tp, fp: tp / (tp + fn)\n",
    "\n",
    "\n",
    "def f1_score(tp, tn, fp):\n",
    "    p = precision(tp, tn)\n",
    "    r = recall(tp, fp)\n",
    "    return 2 * p * r / (p + r)\n",
    "\n",
    "\n",
    "tp = 250\n",
    "tn = 250\n",
    "fp = 750\n",
    "fn = 500\n",
    "\n",
    "print(f\"{accuracy(tp, tn, fp, fn) = }\")\n",
    "print(f\"{precision(tp, tn) = }\")\n",
    "print(f\"{recall(tp, fp) = }\")\n",
    "print(f\"{f1_score(tp, tn, fp) = }\")"
   ],
   "metadata": {
    "collapsed": false,
    "ExecuteTime": {
     "end_time": "2024-06-04T07:39:38.690673Z",
     "start_time": "2024-06-04T07:39:38.664802Z"
    }
   },
   "id": "466e4bbc89e4304a",
   "execution_count": 27
  },
  {
   "cell_type": "markdown",
   "source": [
    "7. Write the python program for k-NN model implemented on iris dataset and print accuracy of the same."
   ],
   "metadata": {
    "collapsed": false
   },
   "id": "8ee7bd9af7e3d37e"
  },
  {
   "cell_type": "markdown",
   "source": [
    "8. What is curse of dimensionality? Write a python program to show it by calculating minimum distances between points when dimensions increase."
   ],
   "metadata": {
    "collapsed": false
   },
   "id": "cd5880c3e5094927"
  },
  {
   "cell_type": "code",
   "outputs": [
    {
     "name": "stderr",
     "output_type": "stream",
     "text": [
      "Curse of Dimensionality: 100%|██████████| 100/100 [00:08<00:00, 12.16it/s]\n"
     ]
    },
    {
     "data": {
      "text/plain": "<Figure size 640x480 with 1 Axes>",
      "image/png": "[encoded data removed]"
     },
     "metadata": {},
     "output_type": "display_data"
    }
   ],
   "source": [
    "from typing import List\n",
    "from tqdm import tqdm\n",
    "\n",
    "Vector = List[float]\n",
    "\n",
    "\n",
    "def random_point(dim: int) -> Vector:\n",
    "    return [random.random() for _ in range(dim)]\n",
    "\n",
    "\n",
    "def random_distances(dim: int, num_pairs: int) -> List[float]:\n",
    "    return [distance(random_point(dim), random_point(dim)) for _ in range(num_pairs)]\n",
    "\n",
    "\n",
    "def distance(v1: Vector, v2: Vector) -> float:\n",
    "    return sum((x1 - x2) ** 2 for x1, x2 in zip(v1, v2)) ** 0.5\n",
    "\n",
    "\n",
    "dimensions = range(1, 101)\n",
    "avg_distances = []\n",
    "min_distances = []\n",
    "\n",
    "for dim in tqdm(dimensions, desc=\"Curse of Dimensionality\"):\n",
    "    distances = random_distances(dim, 10000)\n",
    "    avg_distances.append(sum(distances) / 10000)\n",
    "    min_distances.append(min(distances))\n",
    "\n",
    "pyplot.plot(dimensions, avg_distances, label='avg distances')\n",
    "pyplot.plot(dimensions, min_distances, label='min distances')\n",
    "pyplot.xlabel('# of dimensions')\n",
    "pyplot.legend()\n",
    "pyplot.show()"
   ],
   "metadata": {
    "collapsed": false,
    "ExecuteTime": {
     "end_time": "2024-06-04T08:44:05.855573Z",
     "start_time": "2024-06-04T08:43:57.551135Z"
    }
   },
   "id": "913c42a58ac47555",
   "execution_count": 31
  },
  {
   "cell_type": "code",
   "outputs": [],
   "source": [],
   "metadata": {
    "collapsed": false
   },
   "id": "6e2272f825e9550f"
  }
 ],
 "metadata": {
  "kernelspec": {
   "display_name": "Python 3",
   "language": "python",
   "name": "python3"
  },
  "language_info": {
   "codemirror_mode": {
    "name": "ipython",
    "version": 2
   },
   "file_extension": ".py",
   "mimetype": "text/x-python",
   "name": "python",
   "nbconvert_exporter": "python",
   "pygments_lexer": "ipython2",
   "version": "2.7.6"
  }
 },
 "nbformat": 4,
 "nbformat_minor": 5
}
