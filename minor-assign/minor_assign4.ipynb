{
 "cells": [
  {
   "cell_type": "markdown",
   "source": [
    "# Minor Assign 4"
   ],
   "metadata": {
    "collapsed": false
   },
   "id": "de6a1b633e9fa236"
  },
  {
   "cell_type": "markdown",
   "source": [
    "1. Write a python program to randomly generate data with 100 numbers and form a histogram of it. Range of numbers should be between 1 to 100(both included), bucket size=10."
   ],
   "metadata": {
    "collapsed": false
   },
   "id": "86b97ba7fdbcbe82"
  },
  {
   "cell_type": "code",
   "execution_count": 14,
   "id": "initial_id",
   "metadata": {
    "collapsed": true,
    "ExecuteTime": {
     "end_time": "2024-06-04T06:45:06.844504Z",
     "start_time": "2024-06-04T06:45:06.663661Z"
    }
   },
   "outputs": [
    {
     "data": {
      "text/plain": "(array([12., 12.,  8.,  8., 13.,  9.,  9., 11.,  5., 13.]),\n array([  1.,  11.,  21.,  31.,  41.,  51.,  61.,  71.,  81.,  91., 101.]),\n <BarContainer object of 10 artists>)"
     },
     "execution_count": 14,
     "metadata": {},
     "output_type": "execute_result"
    },
    {
     "data": {
      "text/plain": "<Figure size 640x480 with 1 Axes>",
      "image/png": "[encoded data removed]"
     },
     "metadata": {},
     "output_type": "display_data"
    }
   ],
   "source": [
    "\n",
    "import random\n",
    "\n",
    "from matplotlib import pyplot\n",
    "\n",
    "random_100 = [random.randint(1, 101) for _ in range(100)]\n",
    "pyplot.hist(random_100, bins=10)"
   ]
  },
  {
   "cell_type": "markdown",
   "source": [
    "2. Write a python program to create a Named Tuple with following details(RollNo.,[Name,Branch,Year of Admission])."
   ],
   "metadata": {
    "collapsed": false
   },
   "id": "a4153e06d308ebde"
  },
  {
   "cell_type": "code",
   "outputs": [
    {
     "name": "stdout",
     "output_type": "stream",
     "text": [
      "RollNo(Name='Ashu', Branch='CSE', Year_of_Admission=2021)\n"
     ]
    }
   ],
   "source": [
    "from collections import namedtuple\n",
    "\n",
    "RollNo = namedtuple('RollNo', ['Name', 'Branch', 'Year_of_Admission'])\n",
    "R = RollNo('Ashu', 'CSE', 2021)\n",
    "print(R)"
   ],
   "metadata": {
    "collapsed": false,
    "ExecuteTime": {
     "end_time": "2024-06-04T06:50:32.603885Z",
     "start_time": "2024-06-04T06:50:32.595730Z"
    }
   },
   "id": "ea77779352b9464f",
   "execution_count": 17
  },
  {
   "cell_type": "markdown",
   "source": [
    "3. Write a python program to create a Dataclass with following details (Roll No.,[Name,Branch,Year of Admission])."
   ],
   "metadata": {
    "collapsed": false
   },
   "id": "4c7ef1e391a3a6cf"
  },
  {
   "cell_type": "code",
   "outputs": [
    {
     "name": "stdout",
     "output_type": "stream",
     "text": [
      "RollNo(name='Ashutosh', branch='CSE', year_of_admission=2021)\n"
     ]
    }
   ],
   "source": [
    "from dataclasses import dataclass\n",
    "\n",
    "\n",
    "@dataclass\n",
    "class RollNo:\n",
    "    name: str\n",
    "    branch: str\n",
    "    year_of_admission: int\n",
    "\n",
    "\n",
    "roll = RollNo('Ashutosh', 'CSE', 2021)\n",
    "print(roll)\n"
   ],
   "metadata": {
    "collapsed": false,
    "ExecuteTime": {
     "end_time": "2024-06-04T06:51:09.224299Z",
     "start_time": "2024-06-04T06:51:09.214996Z"
    }
   },
   "id": "71c5da11fc684a87",
   "execution_count": 18
  },
  {
   "cell_type": "markdown",
   "source": [
    "4. Write, execute and visualise the progress of a python code using tqdm module with setting proper description."
   ],
   "metadata": {
    "collapsed": false
   },
   "id": "b8c27a4664099dd2"
  },
  {
   "cell_type": "code",
   "outputs": [
    {
     "data": {
      "text/plain": "Loop indicator:   0%|          | 0/100 [00:00<?, ?it/s]",
      "application/vnd.jupyter.widget-view+json": {
       "version_major": 2,
       "version_minor": 0,
       "model_id": "61acce932e65432d8cd1dbc49be42842"
      }
     },
     "metadata": {},
     "output_type": "display_data"
    },
    {
     "name": "stdout",
     "output_type": "stream",
     "text": [
      "0\n",
      "1\n",
      "2\n",
      "3\n",
      "4\n",
      "5\n",
      "6\n",
      "7\n",
      "8\n",
      "9\n",
      "10\n",
      "11\n",
      "12\n",
      "13\n",
      "14\n",
      "15\n",
      "16\n",
      "17\n",
      "18\n",
      "19\n",
      "20\n",
      "21\n",
      "22\n",
      "23\n",
      "24\n",
      "25\n",
      "26\n",
      "27\n",
      "28\n",
      "29\n",
      "30\n",
      "31\n",
      "32\n",
      "33\n",
      "34\n",
      "35\n",
      "36\n",
      "37\n",
      "38\n",
      "39\n",
      "40\n",
      "41\n",
      "42\n",
      "43\n",
      "44\n",
      "45\n",
      "46\n",
      "47\n",
      "48\n",
      "49\n",
      "50\n",
      "51\n",
      "52\n",
      "53\n",
      "54\n",
      "55\n",
      "56\n",
      "57\n",
      "58\n",
      "59\n",
      "60\n",
      "61\n",
      "62\n",
      "63\n",
      "64\n",
      "65\n",
      "66\n",
      "67\n",
      "68\n",
      "69\n",
      "70\n",
      "71\n",
      "72\n",
      "73\n",
      "74\n",
      "75\n",
      "76\n",
      "77\n",
      "78\n",
      "79\n",
      "80\n",
      "81\n",
      "82\n",
      "83\n",
      "84\n",
      "85\n",
      "86\n",
      "87\n",
      "88\n",
      "89\n",
      "90\n",
      "91\n",
      "92\n",
      "93\n",
      "94\n",
      "95\n",
      "96\n",
      "97\n",
      "98\n",
      "99\n"
     ]
    }
   ],
   "source": [
    "from tqdm.notebook import tnrange\n",
    "from time import sleep\n",
    "\n",
    "for x in tnrange(100, desc='Loop indicator'):\n",
    "    print(x)\n",
    "    sleep(.05)"
   ],
   "metadata": {
    "collapsed": false,
    "ExecuteTime": {
     "end_time": "2024-06-04T06:53:49.691070Z",
     "start_time": "2024-06-04T06:53:44.342419Z"
    }
   },
   "id": "c4956c55a475a2f7",
   "execution_count": 23
  },
  {
   "cell_type": "code",
   "outputs": [],
   "source": [],
   "metadata": {
    "collapsed": false
   },
   "id": "466e4bbc89e4304a"
  }
 ],
 "metadata": {
  "kernelspec": {
   "display_name": "Python 3",
   "language": "python",
   "name": "python3"
  },
  "language_info": {
   "codemirror_mode": {
    "name": "ipython",
    "version": 2
   },
   "file_extension": ".py",
   "mimetype": "text/x-python",
   "name": "python",
   "nbconvert_exporter": "python",
   "pygments_lexer": "ipython2",
   "version": "2.7.6"
  }
 },
 "nbformat": 4,
 "nbformat_minor": 5
}
