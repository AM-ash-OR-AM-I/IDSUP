{
 "cells": [
  {
   "cell_type": "markdown",
   "id": "a0b9b32725be1ec1",
   "metadata": {
    "collapsed": false
   },
   "source": [
    "    # Minor Assignment II"
   ]
  },
  {
   "cell_type": "markdown",
   "id": "7a4e96a96f5e0b8b",
   "metadata": {
    "collapsed": false
   },
   "source": [
    "1.  Write a menu-driven program to perform Addition, Subtraction, Scalar Multiplication, Dot Productand Length of vectors"
   ]
  },
  {
   "cell_type": "code",
   "execution_count": 1,
   "id": "initial_id",
   "metadata": {
    "ExecuteTime": {
     "end_time": "2024-04-11T11:00:27.237539Z",
     "start_time": "2024-04-11T11:00:27.231187Z"
    },
    "collapsed": true
   },
   "outputs": [],
   "source": [
    "def add(v1, v2):\n",
    "    return [xi + yi for xi, yi in zip(v1, v2)]\n",
    "\n",
    "\n",
    "def sub(v1, v2):\n",
    "    return [xi - yi for xi, yi in zip(v1, v2)]\n",
    "\n",
    "\n",
    "def dot_prod(v1, v2):\n",
    "    return sum(xi * yi for xi, yi in zip(v1, v2))\n",
    "\n",
    "\n",
    "def scalar_mult(a, v):\n",
    "    return a * v\n"
   ]
  },
  {
   "cell_type": "markdown",
   "id": "df76f56beae76864",
   "metadata": {
    "collapsed": false
   },
   "source": [
    "2.  Write a program that takes the order of the matrix and creates a matrix in the following manner:The (ij)thentry of the matrix should be the sum of i and j.  Eg:  The0throw and0thcolumn shouldhave the value (0+0) i.e. 0 and the0throw and first column should have value (0+1) i.e. 1 and so on"
   ]
  },
  {
   "cell_type": "code",
   "execution_count": 4,
   "id": "9c9d0ded285d71e7",
   "metadata": {
    "ExecuteTime": {
     "end_time": "2024-04-11T11:10:23.668589Z",
     "start_time": "2024-04-11T11:10:22.687340Z"
    },
    "collapsed": false
   },
   "outputs": [
    {
     "name": "stdout",
     "output_type": "stream",
     "text": [
      "[0, 1, 2, 3, 4]\n",
      "[1, 2, 3, 4, 5]\n",
      "[2, 3, 4, 5, 6]\n",
      "[3, 4, 5, 6, 7]\n",
      "[4, 5, 6, 7, 8]\n"
     ]
    }
   ],
   "source": [
    "def create_mat(order: int):\n",
    "    matrix = [[0 for _ in range(order)] for __ in range(order)]\n",
    "    for i in range(order):\n",
    "        for j in range(order):\n",
    "            matrix[i][j] = i + j\n",
    "    print(*matrix, sep='\\n')\n",
    "\n",
    "\n",
    "if __name__ == \"__main__\":\n",
    "    n = int(input(\"Enter the order: \"))\n",
    "    create_mat(n)\n"
   ]
  },
  {
   "cell_type": "markdown",
   "id": "b3571578696c5e04",
   "metadata": {
    "collapsed": false
   },
   "source": [
    "4.  Write a function to compute the component-wise mean of a list of vectors.  Assert the condition thatthe vectors must be of same length."
   ]
  },
  {
   "cell_type": "code",
   "execution_count": null,
   "id": "80b1bf6c51a4f158",
   "metadata": {
    "collapsed": false
   },
   "outputs": [],
   "source": [
    "def component_mean():\n",
    "    ..."
   ]
  }
 ],
 "metadata": {
  "kernelspec": {
   "display_name": "Python 3",
   "language": "python",
   "name": "python3"
  },
  "language_info": {
   "codemirror_mode": {
    "name": "ipython",
    "version": 3
   },
   "file_extension": ".py",
   "mimetype": "text/x-python",
   "name": "python",
   "nbconvert_exporter": "python",
   "pygments_lexer": "ipython3",
   "version": "3.11.8"
  }
 },
 "nbformat": 4,
 "nbformat_minor": 5
}
