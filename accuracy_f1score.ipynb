{
 "cells": [
  {
   "cell_type": "markdown",
   "source": [
    "# Accuracy, F-1 Score, recall value"
   ],
   "metadata": {
    "collapsed": false
   },
   "id": "2ed186dd422fe6a3"
  },
  {
   "cell_type": "code",
   "outputs": [],
   "source": [
    "\"\"\"\n",
    "tp -> True  Positive\n",
    "fp -> False Positive\n",
    "fn -> False Negative\n",
    "fn -> False Negative\n",
    "\"\"\"\n",
    "\n",
    "\n",
    "def precision(tp: int, fp: int, fn: int, tn: int):\n",
    "    return tp / (tp + fn)\n",
    "\n",
    "\n",
    "def recall_value(tp: int, fp: int, fn: int, tn: int):\n",
    "    return tp / (tp + fn)\n",
    "\n",
    "\n",
    "def f1_score(tp: int, fp: int, fn: int, tn: int):\n",
    "    r = recall_value(tp, fp, fn, tn)\n",
    "    p = precision(tp, fp, fn, tn)\n",
    "    return 2 * p * r / (p + r)"
   ],
   "metadata": {
    "collapsed": false
   },
   "id": "initial_id",
   "execution_count": 0
  }
 ],
 "metadata": {
  "kernelspec": {
   "display_name": "Python 3",
   "language": "python",
   "name": "python3"
  },
  "language_info": {
   "codemirror_mode": {
    "name": "ipython",
    "version": 2
   },
   "file_extension": ".py",
   "mimetype": "text/x-python",
   "name": "python",
   "nbconvert_exporter": "python",
   "pygments_lexer": "ipython2",
   "version": "2.7.6"
  }
 },
 "nbformat": 4,
 "nbformat_minor": 5
}
