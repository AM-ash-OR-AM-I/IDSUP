{
 "cells": [
  {
   "cell_type": "markdown",
   "source": [
    "# Minor Assignment II"
   ],
   "metadata": {
    "collapsed": false
   },
   "id": "a0b9b32725be1ec1"
  },
  {
   "cell_type": "markdown",
   "source": [
    "1.  Write a menu-driven program to perform Addition, Subtraction, Scalar Multiplication, Dot Productand Length of vectors"
   ],
   "metadata": {
    "collapsed": false
   },
   "id": "7a4e96a96f5e0b8b"
  },
  {
   "cell_type": "code",
   "execution_count": 1,
   "id": "initial_id",
   "metadata": {
    "collapsed": true,
    "ExecuteTime": {
     "end_time": "2024-04-11T11:00:27.237539Z",
     "start_time": "2024-04-11T11:00:27.231187Z"
    }
   },
   "outputs": [],
   "source": [
    "def add(v1, v2):\n",
    "    return [xi + yi for xi, yi in zip(v1, v2)]\n",
    "\n",
    "\n",
    "def sub(v1, v2):\n",
    "    return [xi - yi for xi, yi in zip(v1, v2)]\n",
    "\n",
    "\n",
    "def dot_prod(v1, v2):\n",
    "    return sum(xi * yi for xi, yi in zip(v1, v2))\n",
    "\n",
    "\n",
    "def scalar_mult(a, v):\n",
    "    return a * v\n"
   ]
  },
  {
   "cell_type": "markdown",
   "source": [
    "2.  Write a program that takes the order of the matrix and creates a matrix in the following manner:The (ij)thentry of the matrix should be the sum of i and j.  Eg:  The0throw and0thcolumn shouldhave the value (0+0) i.e. 0 and the0throw and first column should have value (0+1) i.e. 1 and so on"
   ],
   "metadata": {
    "collapsed": false
   },
   "id": "df76f56beae76864"
  },
  {
   "cell_type": "code",
   "outputs": [
    {
     "name": "stdout",
     "output_type": "stream",
     "text": [
      "[0, 1, 2, 3, 4]\n",
      "[1, 2, 3, 4, 5]\n",
      "[2, 3, 4, 5, 6]\n",
      "[3, 4, 5, 6, 7]\n",
      "[4, 5, 6, 7, 8]\n"
     ]
    }
   ],
   "source": [
    "def create_mat(order: int):\n",
    "    matrix = [[0 for _ in range(order)] for __ in range(order)]\n",
    "    for i in range(order):\n",
    "        for j in range(order):\n",
    "            matrix[i][j] = i + j\n",
    "    print(*matrix, sep='\\n')\n",
    "\n",
    "\n",
    "if __name__ == \"__main__\":\n",
    "    n = int(input(\"Enter the order: \"))\n",
    "    create_mat(n)\n"
   ],
   "metadata": {
    "collapsed": false,
    "ExecuteTime": {
     "end_time": "2024-04-11T11:10:23.668589Z",
     "start_time": "2024-04-11T11:10:22.687340Z"
    }
   },
   "id": "9c9d0ded285d71e7",
   "execution_count": 7
  },
  {
   "cell_type": "markdown",
   "source": [
    "4.  Write a function to compute the component-wise mean of a list of vectors.  Assert the condition thatthe vectors must be of same length."
   ],
   "metadata": {
    "collapsed": false
   },
   "id": "b3571578696c5e04"
  },
  {
   "cell_type": "code",
   "outputs": [],
   "source": [
    "def component_mean():\n",
    "    ..."
   ],
   "metadata": {
    "collapsed": false
   },
   "id": "80b1bf6c51a4f158"
  }
 ],
 "metadata": {
  "kernelspec": {
   "display_name": "Python 3",
   "language": "python",
   "name": "python3"
  },
  "language_info": {
   "codemirror_mode": {
    "name": "ipython",
    "version": 2
   },
   "file_extension": ".py",
   "mimetype": "text/x-python",
   "name": "python",
   "nbconvert_exporter": "python",
   "pygments_lexer": "ipython2",
   "version": "2.7.6"
  }
 },
 "nbformat": 4,
 "nbformat_minor": 5
}
