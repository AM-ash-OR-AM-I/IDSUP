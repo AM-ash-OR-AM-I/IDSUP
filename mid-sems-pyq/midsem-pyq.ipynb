{
 "cells": [
  {
   "cell_type": "markdown",
   "id": "e4d5e7ea03e06ef4",
   "metadata": {
    "collapsed": false
   },
   "source": [
    "1. Construct a student network using python code from the 2\n",
    "following datasets (students and student_pairs).\n",
    "students = [\n",
    "    { \"id\": 0, \"name\": \"Rahul\" },\n",
    "    { \"id\": 1, \"name\": \"Ashok\" },\n",
    "    { \"id\": 2, \"name\": \"Sarita\" },\n",
    "    { \"id\": 3, \"name\": \"Piyush\" },\n",
    "    { \"id\": 4, \"name\": \"Puja\" },\n",
    "    { \"id\": 5, \"name\": \"Harish\" },\n",
    "    { \"id\": 6, \"name\": \"Rohan\" },\n",
    "    { \"id\": 7, \"name\": \"Sunil\" },\n",
    "    { \"id\": 8, \"name\": \"Rajesh\" },\n",
    "    { \"id\": 9, \"name\": \"Amlan\" },\n",
    "]\n",
    "student_pairs = [(0, 1), (0, 2), (1, 2), (1,\n",
    "3), (2, 3), (3, 4), (4, 5), (5, 6), (5, 7),\n",
    "(6, 8), (7, 8), (8, 9)]"
   ]
  },
  {
   "cell_type": "code",
   "execution_count": 7,
   "id": "initial_id",
   "metadata": {
    "ExecuteTime": {
     "end_time": "2024-04-11T17:51:21.190695Z",
     "start_time": "2024-04-11T17:51:21.173489Z"
    },
    "collapsed": true
   },
   "outputs": [
    {
     "data": {
      "text/plain": [
       "{0: [1, 2],\n",
       " 1: [0, 2, 3],\n",
       " 2: [0, 1, 3],\n",
       " 3: [1, 2, 4],\n",
       " 4: [3, 5],\n",
       " 5: [4, 6, 7],\n",
       " 6: [5, 8],\n",
       " 7: [5, 8],\n",
       " 8: [6, 7, 9],\n",
       " 9: [8]}"
      ]
     },
     "execution_count": 7,
     "metadata": {},
     "output_type": "execute_result"
    }
   ],
   "source": [
    "from collections import defaultdict\n",
    "\n",
    "students = [\n",
    "    {\"id\": 0, \"name\": \"Rahul\"},\n",
    "    {\"id\": 1, \"name\": \"Ashok\"},\n",
    "    {\"id\": 2, \"name\": \"Sarita\"},\n",
    "    {\"id\": 3, \"name\": \"Piyush\"},\n",
    "    {\"id\": 4, \"name\": \"Puja\"},\n",
    "    {\"id\": 5, \"name\": \"Harish\"},\n",
    "    {\"id\": 6, \"name\": \"Rohan\"},\n",
    "    {\"id\": 7, \"name\": \"Sunil\"},\n",
    "    {\"id\": 8, \"name\": \"Rajesh\"},\n",
    "    {\"id\": 9, \"name\": \"Amlan\"},\n",
    "]\n",
    "student_pairs = [(0, 1), (0, 2), (1, 2), (1, 3), (2, 3), (3, 4), (4, 5), (5, 6), (5, 7), (6, 8), (7, 8), (8, 9)]\n",
    "student_network = defaultdict(list)\n",
    "for id1, id2 in student_pairs:\n",
    "    student_network[id1].append(id2)\n",
    "    student_network[id2].append(id1)\n",
    "\n",
    "dict(student_network)"
   ]
  },
  {
   "cell_type": "markdown",
   "id": "86485c77c881c817",
   "metadata": {
    "collapsed": false
   },
   "source": []
  },
  {
   "cell_type": "markdown",
   "id": "787b8e4ca51ec2be",
   "metadata": {
    "collapsed": false
   },
   "source": [
    "(b) For the dataset given in Q. 1 (a), write the python script to find 2 the number of students friend to each student id and sorts them from most number of friends to least number of friends."
   ]
  },
  {
   "cell_type": "code",
   "execution_count": 10,
   "id": "ff4fe94f51e4bf4b",
   "metadata": {
    "ExecuteTime": {
     "end_time": "2024-04-11T17:53:34.648222Z",
     "start_time": "2024-04-11T17:53:34.632779Z"
    },
    "collapsed": false
   },
   "outputs": [
    {
     "data": {
      "text/plain": [
       "{0: 2, 1: 3, 2: 3, 3: 3, 4: 2, 5: 3, 6: 2, 7: 2, 8: 3, 9: 1}"
      ]
     },
     "execution_count": 10,
     "metadata": {},
     "output_type": "execute_result"
    }
   ],
   "source": [
    "{_id: len(friends) for _id, friends in student_network.items()}"
   ]
  },
  {
   "cell_type": "markdown",
   "id": "7c5eac5f30ca2a8c",
   "metadata": {
    "collapsed": false
   },
   "source": [
    "(c) What is the output of the following Python script? 2\n",
    "```python\n",
    "from collections import Counter\n",
    "count = Counter(a=1, b=2, c=3, d=120, e=1, f=219)\n",
    "for letter, c in count.most_common():\n",
    "    print( letter, c)\n",
    "```\n",
    "if most_common() method is replaced by items() method in the above code then what could be the expected output."
   ]
  },
  {
   "cell_type": "code",
   "execution_count": 18,
   "id": "203415f16a8f704e",
   "metadata": {
    "ExecuteTime": {
     "end_time": "2024-04-11T17:57:31.344718Z",
     "start_time": "2024-04-11T17:57:31.336451Z"
    },
    "collapsed": false
   },
   "outputs": [
    {
     "name": "stdout",
     "output_type": "stream",
     "text": [
      "most_common()\n",
      "f 219\n",
      "d 120\n",
      "c 3\n",
      "b 2\n",
      "a 1\n",
      "e 1\n",
      "items()\n",
      "a 1\n",
      "b 2\n",
      "c 3\n",
      "d 120\n",
      "e 1\n",
      "f 219\n"
     ]
    }
   ],
   "source": [
    "from collections import Counter\n",
    "\n",
    "count = Counter(a=1, b=2, c=3, d=120, e=1, f=219)\n",
    "\n",
    "# List the n most common elements and their counts from the most common to the least.\n",
    "# If n is None, then list all element counts.\n",
    "print(\"most_common()\")\n",
    "for letter, c in count.most_common():\n",
    "    print(letter, c)\n",
    "\n",
    "print(\"items()\")\n",
    "for letter, c in count.items():\n",
    "    print(letter, c)"
   ]
  },
  {
   "cell_type": "markdown",
   "id": "6ba37b257270ae44",
   "metadata": {
    "collapsed": false
   },
   "source": [
    "2 (b) Generate a list of the 100 random integers between 1 to 2 100 and plot a histogram of the same."
   ]
  },
  {
   "cell_type": "code",
   "execution_count": 1,
   "id": "9d7fea04afcfc78b",
   "metadata": {
    "ExecuteTime": {
     "end_time": "2024-04-12T05:11:34.522247Z",
     "start_time": "2024-04-12T05:11:34.355179Z"
    },
    "collapsed": false
   },
   "outputs": [
    {
     "data": {
      "image/png": "[encoded data removed]",
      "text/plain": [
       "<Figure size 640x480 with 1 Axes>"
      ]
     },
     "metadata": {},
     "output_type": "display_data"
    }
   ],
   "source": [
    "from matplotlib import pyplot\n",
    "from random import randint\n",
    "\n",
    "rand_100 = [randint(1, 101) for _ in range(100)]\n",
    "pyplot.hist(rand_100, bins=10, alpha=0.5, color='skyblue', edgecolor='black')\n",
    "pyplot.xlabel(\"Number\")\n",
    "pyplot.ylabel(\"Count\")\n",
    "pyplot.show()"
   ]
  },
  {
   "cell_type": "markdown",
   "id": "33796f1500c7b709",
   "metadata": {
    "collapsed": false
   },
   "source": [
    "(c) Given the following data, 2\n",
    "cars = ['Tata', 'Kia', 'MG', 'Hyundai','Maruti', 'Honda', 'Skoda', 'Mahindra', 'Renault', 'Toyota']\n",
    "production = [2.2, 2.5, 3.6, 5.5, 4.5, 1.2, 3.3, 8.9, 6.5, 7.6]\n",
    "Plot a scatter graph yearly from 2011 to 2020 displaying the title of graph as “Production of Cars” labeling the axes as “Years” and “Production in thousands” labeling the plotted points the names of cars."
   ]
  },
  {
   "cell_type": "code",
   "execution_count": 4,
   "id": "f5b34433",
   "metadata": {},
   "outputs": [
    {
     "data": {
      "text/plain": [
       "Text(0, 0.5, 'Production in thousands')"
      ]
     },
     "execution_count": 4,
     "metadata": {},
     "output_type": "execute_result"
    },
    {
     "data": {
      "image/png": "[encoded data removed]",
      "text/plain": [
       "<Figure size 640x480 with 1 Axes>"
      ]
     },
     "metadata": {},
     "output_type": "display_data"
    }
   ],
   "source": [
    "from matplotlib import pyplot\n",
    "\n",
    "cars = ['Tata', 'Kia', 'MG', 'Hyundai', 'Maruti', 'Honda', 'Skoda', 'Mahindra', 'Renault', 'Toyota']\n",
    "production = [2.2, 2.5, 3.6, 5.5, 4.5, 1.2, 3.3, 8.9, 6.5, 7.6]\n",
    "pyplot.scatter(cars, production)\n",
    "pyplot.title(\"Production of cars.\")\n",
    "pyplot.xlabel(\"Years\")\n",
    "pyplot.ylabel(\"Production in thousands\")"
   ]
  },
  {
   "cell_type": "markdown",
   "id": "db1e8046",
   "metadata": {},
   "source": [
    "3(b) Write a python function to compute the component wise mean of a list of vectors. Assert the condition that the vectors must be of same length"
   ]
  },
  {
   "cell_type": "code",
   "execution_count": 15,
   "id": "051b26b0",
   "metadata": {},
   "outputs": [
    {
     "name": "stdout",
     "output_type": "stream",
     "text": [
      "[4.0, 5.0, 6.0]\n"
     ]
    }
   ],
   "source": [
    "from typing import List\n",
    "\n",
    "vector = List[int]\n",
    "\n",
    "\n",
    "def comp_mean(vectors: List[vector]) -> vector:\n",
    "    n_vectors = len(vectors)\n",
    "    n_components = len(vectors[0])\n",
    "    assert all(len(vector) == n_components for vector in vectors), \"vectors must be of equal length\"\n",
    "    mean_vector = [0] * n_vectors\n",
    "    for ith_comp in range(n_components):\n",
    "        mean_vector[ith_comp] = sum(vectors[ith_vector][ith_comp] for ith_vector in range(n_vectors)) / n_vectors\n",
    "\n",
    "    return mean_vector\n",
    "\n",
    "\n",
    "vectors = [\n",
    "    [1, 2, 3],\n",
    "    [4, 5, 6],\n",
    "    [7, 8, 9]\n",
    "]\n",
    "print(comp_mean(vectors))"
   ]
  },
  {
   "cell_type": "markdown",
   "id": "b5fe06f0",
   "metadata": {},
   "source": [
    "4 (a) Compute the covariance and Correlation between the number of hours watching movies per week and the number of hours sleeping per week for a group of 4 students.\n",
    "The dataset is as follows:\n",
    "hours_movie= [10,12,14,8]\n",
    "hours_sleep= [40,48,56,32]"
   ]
  },
  {
   "cell_type": "code",
   "execution_count": 27,
   "id": "10fd3106",
   "metadata": {},
   "outputs": [
    {
     "name": "stdout",
     "output_type": "stream",
     "text": [
      "covariance(hours_movie, hours_sleep) = 26.666666666666668\n",
      "correlation(hours_movie, hours_sleep) = 1.0000000000000002\n"
     ]
    }
   ],
   "source": [
    "hours_movie = [10, 12, 14, 8]\n",
    "hours_sleep = [40, 48, 56, 32]\n",
    "from math import sqrt\n",
    "\n",
    "\n",
    "def mean(v):\n",
    "    return sum(v) / len(v)\n",
    "\n",
    "\n",
    "def variance(v):\n",
    "    x_mean = mean(v)\n",
    "    return sum(pow(xi - x_mean, 2) for xi in v) / (len(v) - 1)\n",
    "\n",
    "\n",
    "def covariance(v1, v2):\n",
    "    assert len(v1) == len(v2), \"Vectors must be of same length.\"\n",
    "    x_mean, y_mean = mean(v1), mean(v2)\n",
    "    return sum((xi - x_mean) * (yi - y_mean) for xi, yi in zip(v1, v2)) / (len(v1) - 1)\n",
    "\n",
    "\n",
    "def correlation(v1, v2):\n",
    "    sigma_x, sigma_y = sqrt(variance(v1)), sqrt(variance(v2))\n",
    "    if sigma_x > 0 and sigma_y > 0:\n",
    "        return covariance(v1, v2) / (sigma_x * sigma_y)\n",
    "    else:\n",
    "        return 0\n",
    "\n",
    "\n",
    "print(f\"{covariance(hours_movie, hours_sleep) = }\")\n",
    "print(f\"{correlation(hours_movie, hours_sleep) = }\")"
   ]
  },
  {
   "cell_type": "markdown",
   "id": "f4de5ec1",
   "metadata": {},
   "source": [
    "5.(b) Given a family with two (unknown) children. If we assume that:\n",
    "- Each child is equally likely to be a boy or girl.  \n",
    "- The gender of the second child is independent of the gender of first child  \n",
    "    B: All children are girls  \n",
    "    A: The older child is a girl  \n",
    "    L: At least one of the children is a girl  \n",
    "\n",
    "Find *P(B|A), P(B|L)*\n",
    "\n",
    "Write the python script to compute the conditional probability for the above two cases.\n",
    "\n",
    "Answer:\n",
    "    The possible values of 2 children are:\n",
    "    BB, BG, GB, GG\n",
    "\n",
    "For *P(B|A)* i.e. the probability that both the children are girls given that the older one is a girl, \n",
    "\n",
    "$$P(B|A) = \\frac{P(A|B) * P(B)}{P(A)} = \\frac{P(B)}{P(A)} = \\frac{1 * \\frac{1}{4}}{\\frac{1}{2}} = \\frac{1}{2} $$\n",
    "\n",
    "- **P(A|B)** = 1 since if both are girls, the older one is definitely a girl.\n",
    "- **P(B)** is the probability that both children are girl = 1/4\n",
    "- **P(A)** is the probability that the older child is a girl.  \n",
    "    The possible values of the older child are: GB, GG\n",
    "    Therefore, P(A) = 2/4 = 1/2\n",
    "\n",
    "\n",
    "\n",
    "For *P(B|L)* i.e. the probability that both the children are girls given that at least one of them is a girl,\n",
    "\n",
    "$$P(B|L) = \\frac{P(L|B) * P(B)}{P(L)} = \\frac{P(B)}{P(L)} = \\frac{1 * \\frac{1}{4}}{\\frac{3}{4}} = \\frac{1}{3} $$\n",
    "\n",
    "- **P(L|B)** = 1 since if both children are girls, it's 100% certain that at least one child is a girl.  \n",
    "- **P(B)** is the probability that both children are girls.  \n",
    "    Since each child has a 1/2 chance of being a girl, and their genders are independent, P(B) = (1/2) * (1/2) = 1/4.  \n",
    "- **P(L)** can be calculated by considering the sample space of all possible values of 2 children.  \n",
    "    3 of the possibilities out of 4 are: BG, GB, GG\n",
    "    Therefore, P(L) = 3/4"
   ]
  },
  {
   "cell_type": "code",
   "execution_count": 31,
   "id": "de3b8c17",
   "metadata": {},
   "outputs": [
    {
     "name": "stdout",
     "output_type": "stream",
     "text": [
      "P(B|A) = 0.5022732711174922\n",
      "P(B|L) = 0.3353079780082269\n"
     ]
    }
   ],
   "source": [
    "import random\n",
    "\n",
    "\n",
    "class Child():\n",
    "    BOY = 0\n",
    "    GIRL = 1\n",
    "\n",
    "\n",
    "def random_kid() -> Child:\n",
    "    return random.choice([Child.BOY, Child.GIRL])\n",
    "\n",
    "\n",
    "trials = 100_000\n",
    "both_girls = 0\n",
    "atleast_one_girl = 0\n",
    "older_is_girl = 0\n",
    "for _ in range(trials):\n",
    "    older = random_kid()\n",
    "    younger = random_kid()\n",
    "\n",
    "    if younger == older == Child.GIRL:\n",
    "        both_girls += 1\n",
    "    if older == Child.GIRL:\n",
    "        older_is_girl += 1\n",
    "    if younger == Child.GIRL or older == Child.GIRL:\n",
    "        atleast_one_girl += 1\n",
    "\n",
    "print(f\"P(B|A) = {both_girls / older_is_girl}\")\n",
    "print(f\"P(B|L) = {both_girls / atleast_one_girl}\")"
   ]
  },
  {
   "cell_type": "markdown",
   "id": "72eb5e56",
   "metadata": {},
   "source": [
    "5. (c) Write a python function for normal distribution probability density function (PDF) named normal_pdf which takes three parameters- x, mu, and sigma. And plot the graph of this function for different values of mu and sigma.\n",
    "i. mu = 0, sigma = 1\n",
    "ii. mu = -1, sigma = 1"
   ]
  },
  {
   "cell_type": "code",
   "execution_count": 38,
   "id": "91fb0e89",
   "metadata": {},
   "outputs": [
    {
     "data": {
      "image/png": "[encoded data removed]",
      "text/plain": [
       "<Figure size 640x480 with 1 Axes>"
      ]
     },
     "metadata": {},
     "output_type": "display_data"
    }
   ],
   "source": [
    "import math\n",
    "from matplotlib import pyplot\n",
    "\n",
    "\n",
    "def normal_pdf(x: float, mu: float, sigma: float):\n",
    "    return math.exp(-pow(x - mu, 2) / (2 * pow(sigma, 2))) / (math.sqrt(2 * math.pi) * sigma)\n",
    "\n",
    "\n",
    "x_values = [x / 20 for x in range(-100, 100)]\n",
    "y_axis1 = [normal_pdf(x, mu=0, sigma=1) for x in x_values]\n",
    "y_axis2 = [normal_pdf(x, mu=-1, sigma=1) for x in x_values]\n",
    "\n",
    "pyplot.plot(x_values, y_axis1, label=\"mu=0, sigma=-1\")\n",
    "pyplot.plot(x_values, y_axis2, label=\"mu=-1, sigma=-1\")\n",
    "\n",
    "pyplot.legend()\n",
    "pyplot.show()"
   ]
  },
  {
   "cell_type": "markdown",
   "id": "82d39314",
   "metadata": {},
   "source": [
    "## Misc"
   ]
  },
  {
   "cell_type": "markdown",
   "id": "3b4b57435706725f",
   "metadata": {
    "collapsed": false
   },
   "source": [
    "users = [\n",
    "    {'id': 0, 'name': 'Ashok'},\n",
    "    {'id': 1, 'name': 'Rahul'},\n",
    "    {'id': 2, 'name': 'Sarita'},\n",
    "    {'id': 3, 'name': 'Rohan'},\n",
    "    {'id': 4, 'name': 'Akhaya'},\n",
    "    {'id': 5, 'name': 'Prakash'},\n",
    "    {'id': 6, 'name': 'Madhabi'},\n",
    "    {'id': 7, 'name': 'Spandan'}\n",
    "\n",
    "]\n",
    "\n",
    "interests = [(0, 'python'), (0, 'java'), (1, 'java'), (2, 'python'), (2, 'java'), (3, 'python'), (4, 'c'), (5, 'c'),\n",
    "             (6, 'python'), (7, 'java')]\n",
    "             \n",
    "1.Find the list of user ids by interest\n",
    "2.Find the list of interests by user id\n",
    "3.Find who has the most interest in common with a given user."
   ]
  },
  {
   "cell_type": "code",
   "execution_count": 46,
   "id": "736646ddbd783a71",
   "metadata": {
    "ExecuteTime": {
     "end_time": "2024-04-12T05:00:13.257383Z",
     "start_time": "2024-04-12T05:00:11.284276Z"
    },
    "collapsed": false
   },
   "outputs": [
    {
     "name": "stdout",
     "output_type": "stream",
     "text": [
      "userid_by_interest = {'python': [0, 2, 3, 6], 'java': [0, 1, 2, 7], 'c': [4, 5]}\n",
      "interests_by_userid = {0: ['python', 'java'], 1: ['java'], 2: ['python', 'java'], 3: ['python'], 4: ['c'], 5: ['c'], 6: ['python'], 7: ['java']}\n",
      "max_comm_interest(user_name) = 'Sarita'\n"
     ]
    }
   ],
   "source": [
    "users = [\n",
    "    {'id': 0, 'name': 'Ashok'},\n",
    "    {'id': 1, 'name': 'Rahul'},\n",
    "    {'id': 2, 'name': 'Sarita'},\n",
    "    {'id': 3, 'name': 'Rohan'},\n",
    "    {'id': 4, 'name': 'Akhaya'},\n",
    "    {'id': 5, 'name': 'Prakash'},\n",
    "    {'id': 6, 'name': 'Madhabi'},\n",
    "    {'id': 7, 'name': 'Spandan'}\n",
    "\n",
    "]\n",
    "\n",
    "interests = [(0, 'python'), (0, 'java'), (1, 'java'), (2, 'python'), (2, 'java'), (3, 'python'), (4, 'c'), (5, 'c'),\n",
    "             (6, 'python'), (7, 'java')]\n",
    "\n",
    "userid_by_interest = {interest: [] for user_id, interest in interests}\n",
    "interests_by_userid = {user_id: [] for user_id, interest in interests}\n",
    "\n",
    "for user_id, interest in interests:\n",
    "    userid_by_interest[interest].append(user_id)\n",
    "    interests_by_userid[user_id].append(interest)\n",
    "\n",
    "\n",
    "def max_comm_interest(username: str):\n",
    "    user_id = next((user['id'] for user in users if user['name'] == username), None)\n",
    "    user_interests = interests_by_userid.get(user_id)\n",
    "    max_common = 0\n",
    "    most_common_user = None\n",
    "    for common_user_id, common_interests in interests_by_userid.items():\n",
    "        common_count = len(set(user_interests) & set(common_interests))\n",
    "        if common_count > max_common and common_user_id != user_id:\n",
    "            most_common_user = common_user_id\n",
    "            max_common = common_count\n",
    "    return next((user['name'] for user in users if user['id'] == most_common_user), None)\n",
    "\n",
    "\n",
    "print(f\"{userid_by_interest = }\")\n",
    "print(f\"{interests_by_userid = }\")\n",
    "user_name = input(\"Enter the username to find most common interest: \")\n",
    "print(f\"{max_comm_interest(user_name) = }\")"
   ]
  },
  {
   "cell_type": "markdown",
   "id": "30132229a528366c",
   "metadata": {
    "collapsed": false
   },
   "source": [
    "interests=[(0,'Hadoop'),(1,'c'),(1,'c++'), (2,'java'),(2,'Data Science'),(2,'Big Data'), (3,'python'),(3,'data mining'),(4,'web mining'),(4,'data structure'),(5,'deep learning'),(5,'machine learning')"
   ]
  },
  {
   "cell_type": "code",
   "execution_count": 52,
   "id": "5700ce90b42ca597",
   "metadata": {
    "ExecuteTime": {
     "end_time": "2024-04-12T05:05:56.993898Z",
     "start_time": "2024-04-12T05:05:56.978368Z"
    },
    "collapsed": false
   },
   "outputs": [
    {
     "name": "stdout",
     "output_type": "stream",
     "text": [
      "(5, 'deep learning')\n"
     ]
    }
   ],
   "source": [
    "interests = [(0, 'Hadoop'), (1, 'c'), (1, 'c++'), (2, 'java'), (2, 'Data Science'), (2, 'Big Data'), (3, 'python'),\n",
    "             (3, 'data mining'), (4, 'web mining'), (4, 'data structure'), (5, 'deep learning'),\n",
    "             (5, 'machine learning')]\n",
    "\n",
    "print(max(interests, key=lambda x: x[0]))\n"
   ]
  },
  {
   "cell_type": "code",
   "execution_count": 7,
   "id": "527cdc5590a940e",
   "metadata": {
    "collapsed": false,
    "ExecuteTime": {
     "end_time": "2024-06-04T05:02:23.927842Z",
     "start_time": "2024-06-04T05:02:23.780188Z"
    }
   },
   "outputs": [
    {
     "data": {
      "text/plain": "Text(0, 0.5, 'Height')"
     },
     "execution_count": 7,
     "metadata": {},
     "output_type": "execute_result"
    },
    {
     "data": {
      "text/plain": "<Figure size 640x480 with 1 Axes>",
      "image/png": "[encoded data removed]"
     },
     "metadata": {},
     "output_type": "display_data"
    }
   ],
   "source": [
    "from matplotlib import pyplot\n",
    "\n",
    "weight = [53, 50, 53, 59, 56, 53, 59, 47, 53]\n",
    "height = [154, 149, 155, 158, 151, 151, 160, 147, 151]\n",
    "\n",
    "pyplot.scatter(weight, height)\n",
    "pyplot.xlabel('Weight')\n",
    "pyplot.ylabel('Height')"
   ]
  },
  {
   "cell_type": "code",
   "outputs": [
    {
     "data": {
      "text/plain": "Text(0, 0.5, 'Bias_squared')"
     },
     "execution_count": 13,
     "metadata": {},
     "output_type": "execute_result"
    },
    {
     "data": {
      "text/plain": "<Figure size 640x480 with 1 Axes>",
      "image/png": "[encoded data removed]"
     },
     "metadata": {},
     "output_type": "display_data"
    }
   ],
   "source": [
    "Variance = [1, 2, 8, 16, 32, 64, 128, 256]\n",
    "Bias_squared = [256, 128, 64, 32, 16, 8, 2, 1]\n",
    "\n",
    "pyplot.plot(Variance, Bias_squared)\n",
    "pyplot.xlabel('Variance')\n",
    "pyplot.ylabel('Bias_squared')"
   ],
   "metadata": {
    "collapsed": false,
    "ExecuteTime": {
     "end_time": "2024-06-04T05:04:22.576639Z",
     "start_time": "2024-06-04T05:04:22.458804Z"
    }
   },
   "id": "c4882869f1e48455",
   "execution_count": 13
  },
  {
   "cell_type": "code",
   "outputs": [],
   "source": [],
   "metadata": {
    "collapsed": false
   },
   "id": "9457d244277735be"
  }
 ],
 "metadata": {
  "kernelspec": {
   "display_name": "Python 3",
   "language": "python",
   "name": "python3"
  },
  "language_info": {
   "codemirror_mode": {
    "name": "ipython",
    "version": 3
   },
   "file_extension": ".py",
   "mimetype": "text/x-python",
   "name": "python",
   "nbconvert_exporter": "python",
   "pygments_lexer": "ipython3",
   "version": "3.11.8"
  }
 },
 "nbformat": 4,
 "nbformat_minor": 5
}
